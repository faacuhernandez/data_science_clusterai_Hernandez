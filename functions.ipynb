{
 "cells": [
  {
   "cell_type": "code",
   "execution_count": 5,
   "metadata": {},
   "outputs": [],
   "source": [
    "import numpy as np\n",
    "import pandas as pd\n",
    "import matplotlib.pyplot as plt\n",
    "from matplotlib import rcParams\n",
    "import seaborn as sns"
   ]
  },
  {
   "cell_type": "code",
   "execution_count": 4,
   "metadata": {},
   "outputs": [],
   "source": [
    "def clusters(df, yieldlvl = \"medio\"):\n",
    "    anls = df.groupby(['Cluster','cultivo',\"provincia\"], as_index=True).max()\n",
    "    anls = pd.DataFrame(anls)\n",
    "    anls.reset_index([\"cultivo\",\"provincia\"], inplace=True)\n",
    "    pd.set_option('max_rows',300)\n",
    "    anls.sort_values('rendimiento',ascending=False, inplace=True)\n",
    "    if yieldlvl == \"alto\":\n",
    "        i = 3\n",
    "    if yieldlvl == \"medioalto\":\n",
    "        i = 1\n",
    "    if yieldlvl == \"mediobajo\":\n",
    "        i = 4\n",
    "    if yieldlvl == \"bajo\":\n",
    "        i = 0\n",
    "    if yieldlvl == \"medio\":\n",
    "        i = 2  \n",
    "    print(anls.loc[i])\n",
    "#    i.clear()\n",
    "#alto, medioalto, medio, mediobajo, bajo\n",
    "#orden de mayor a menor producción 3,1,2,4,0"
   ]
  },
  {
   "cell_type": "code",
   "execution_count": 6,
   "metadata": {},
   "outputs": [],
   "source": [
    "#Realiza pairplot, heatmap y boxplot para los cultivos de la provincia indicada como argumento.\n",
    "\n",
    "def analisis(Data, ID, provincia = \"BUENOS AIRES\"):\n",
    "    i = (ID.index[ID['provincia'] == provincia]).tolist()\n",
    "    i = int(i[0])\n",
    "    \n",
    "    sns.pairplot(data = Data[i], palette='husl')\n",
    "    plt.show()\n",
    "    \n",
    "    corr = Data[i].corr()\n",
    "    f, ax = plt.subplots(figsize=(15, 15))\n",
    "    sns.heatmap(corr, vmax=.8, square=True);\n",
    "    plt.show()\n",
    "    \n",
    "    sns.set(rc={'figure.figsize':(15,15)})\n",
    "    rcParams['axes.titlesize'] = 25\n",
    "    sns.set_context(\"paper\")\n",
    "    ay = sns.boxplot(data = Data[i], palette='husl')\n",
    "    ay.set_xticklabels(ay.get_xticklabels(), rotation=40, ha=\"right\")\n",
    "    plt.title(\"Variación de producción de cultivos con el tiempo\")\n",
    "    plt.show()"
   ]
  },
  {
   "cell_type": "code",
   "execution_count": null,
   "metadata": {},
   "outputs": [],
   "source": []
  }
 ],
 "metadata": {
  "kernelspec": {
   "display_name": "Python 3",
   "language": "python",
   "name": "python3"
  },
  "language_info": {
   "codemirror_mode": {
    "name": "ipython",
    "version": 3
   },
   "file_extension": ".py",
   "mimetype": "text/x-python",
   "name": "python",
   "nbconvert_exporter": "python",
   "pygments_lexer": "ipython3",
   "version": "3.7.3"
  }
 },
 "nbformat": 4,
 "nbformat_minor": 2
}
