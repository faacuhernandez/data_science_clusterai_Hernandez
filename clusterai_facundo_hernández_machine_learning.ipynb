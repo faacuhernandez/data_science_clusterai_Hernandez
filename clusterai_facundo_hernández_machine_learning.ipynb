{
 "cells": [
  {
   "cell_type": "code",
   "execution_count": 1,
   "metadata": {},
   "outputs": [],
   "source": [
    "import numpy as np\n",
    "import pandas as pd\n",
    "import matplotlib.pyplot as plt\n",
    "from matplotlib import rcParams\n",
    "import seaborn as sns\n",
    "from sklearn import preprocessing\n",
    "from sklearn.model_selection import train_test_split\n",
    "from sklearn.metrics import accuracy_score\n",
    "from sklearn.model_selection import cross_val_score\n",
    "from sklearn import metrics\n",
    "from sklearn.model_selection import GridSearchCV\n",
    "from sklearn.metrics import confusion_matrix\n",
    "from sklearn.neighbors import KNeighborsClassifier\n",
    "from sklearn.cluster import KMeans\n",
    "import matplotlib.cm as cm\n",
    "from sklearn import decomposition\n",
    "import functions as fns"
   ]
  },
  {
   "cell_type": "code",
   "execution_count": 2,
   "metadata": {},
   "outputs": [],
   "source": [
    "#Se importa el csv. Hubo que cambiar el encoder.\n",
    "granos = pd.read_csv('estimaciones.csv', delimiter=',', encoding='latin-1')"
   ]
  },
  {
   "cell_type": "code",
   "execution_count": 3,
   "metadata": {},
   "outputs": [],
   "source": [
    "#Puede notarse que producción tenía un espacio al final, por lo cual se renombra para quitar al mismo\n",
    "granos.rename (columns={'produccion ' : 'produccion'}, inplace=True)"
   ]
  },
  {
   "cell_type": "code",
   "execution_count": 4,
   "metadata": {},
   "outputs": [],
   "source": [
    "#   Se crean dos tablas, una para cultivos y otra para provincias que relacionan el id con el nombre. Esto es conveniente\n",
    "#   por ejemplo, en el caso de los cultivos, el número de id también coincide con la posición en el índice.\n",
    "\n",
    "cultivos = granos.groupby(['id_cultivo'])['cultivo'].max()\n",
    "cultivos = pd.DataFrame(cultivos)\n",
    "#print (cultivos)\n",
    "provincias = granos.groupby(['id_provincia'])['provincia'].max()\n",
    "provincias = pd.DataFrame(provincias)\n",
    "#print (provincias)"
   ]
  },
  {
   "cell_type": "markdown",
   "metadata": {},
   "source": [
    "<font size=\"5\"><b>Modelo 1: Knn classifier "
   ]
  },
  {
   "cell_type": "markdown",
   "metadata": {},
   "source": [
    "El primer modelo que se entrenará con este dataset es uno de clasificación. El objetivo del mismo será que uno pueda ingresar muestras nuevas de la producción por cultivo para un año de una provincia desconocida y que el clasificador defina a que provincia pertenece esa muestra."
   ]
  },
  {
   "cell_type": "code",
   "execution_count": 5,
   "metadata": {},
   "outputs": [
    {
     "data": {
      "text/html": [
       "<div>\n",
       "<style scoped>\n",
       "    .dataframe tbody tr th:only-of-type {\n",
       "        vertical-align: middle;\n",
       "    }\n",
       "\n",
       "    .dataframe tbody tr th {\n",
       "        vertical-align: top;\n",
       "    }\n",
       "\n",
       "    .dataframe thead th {\n",
       "        text-align: right;\n",
       "    }\n",
       "</style>\n",
       "<table border=\"1\" class=\"dataframe\">\n",
       "  <thead>\n",
       "    <tr style=\"text-align: right;\">\n",
       "      <th></th>\n",
       "      <th></th>\n",
       "      <th>Ajo</th>\n",
       "      <th>Algodón</th>\n",
       "      <th>Alpiste</th>\n",
       "      <th>Arroz</th>\n",
       "      <th>Avena</th>\n",
       "      <th>Banana</th>\n",
       "      <th>Caña de azúcar</th>\n",
       "      <th>Cártamo</th>\n",
       "      <th>Cebada cervecera</th>\n",
       "      <th>Cebada forrajera</th>\n",
       "      <th>...</th>\n",
       "      <th>Poroto seco</th>\n",
       "      <th>Soja total</th>\n",
       "      <th>Sorgo</th>\n",
       "      <th>Té</th>\n",
       "      <th>Trigo total</th>\n",
       "      <th>Trigo candeal</th>\n",
       "      <th>Tung</th>\n",
       "      <th>Yerba mate</th>\n",
       "      <th>Maíz</th>\n",
       "      <th>Cebada total</th>\n",
       "    </tr>\n",
       "    <tr>\n",
       "      <th>campaña</th>\n",
       "      <th>provincia</th>\n",
       "      <th></th>\n",
       "      <th></th>\n",
       "      <th></th>\n",
       "      <th></th>\n",
       "      <th></th>\n",
       "      <th></th>\n",
       "      <th></th>\n",
       "      <th></th>\n",
       "      <th></th>\n",
       "      <th></th>\n",
       "      <th></th>\n",
       "      <th></th>\n",
       "      <th></th>\n",
       "      <th></th>\n",
       "      <th></th>\n",
       "      <th></th>\n",
       "      <th></th>\n",
       "      <th></th>\n",
       "      <th></th>\n",
       "      <th></th>\n",
       "      <th></th>\n",
       "    </tr>\n",
       "  </thead>\n",
       "  <tbody>\n",
       "    <tr>\n",
       "      <th rowspan=\"5\" valign=\"top\">1969/1970</th>\n",
       "      <th>BUENOS AIRES</th>\n",
       "      <td>23458.0</td>\n",
       "      <td>NaN</td>\n",
       "      <td>104000.0</td>\n",
       "      <td>NaN</td>\n",
       "      <td>404700.0</td>\n",
       "      <td>NaN</td>\n",
       "      <td>NaN</td>\n",
       "      <td>NaN</td>\n",
       "      <td>412800.0</td>\n",
       "      <td>60500.0</td>\n",
       "      <td>...</td>\n",
       "      <td>180.0</td>\n",
       "      <td>1600.0</td>\n",
       "      <td>880000.0</td>\n",
       "      <td>NaN</td>\n",
       "      <td>4882600.0</td>\n",
       "      <td>NaN</td>\n",
       "      <td>NaN</td>\n",
       "      <td>NaN</td>\n",
       "      <td>3729800.0</td>\n",
       "      <td>NaN</td>\n",
       "    </tr>\n",
       "    <tr>\n",
       "      <th>CATAMARCA</th>\n",
       "      <td>90.0</td>\n",
       "      <td>101.0</td>\n",
       "      <td>NaN</td>\n",
       "      <td>NaN</td>\n",
       "      <td>120.0</td>\n",
       "      <td>NaN</td>\n",
       "      <td>NaN</td>\n",
       "      <td>NaN</td>\n",
       "      <td>NaN</td>\n",
       "      <td>400.0</td>\n",
       "      <td>...</td>\n",
       "      <td>187.0</td>\n",
       "      <td>NaN</td>\n",
       "      <td>100.0</td>\n",
       "      <td>NaN</td>\n",
       "      <td>450.0</td>\n",
       "      <td>NaN</td>\n",
       "      <td>NaN</td>\n",
       "      <td>NaN</td>\n",
       "      <td>1500.0</td>\n",
       "      <td>NaN</td>\n",
       "    </tr>\n",
       "    <tr>\n",
       "      <th>CHACO</th>\n",
       "      <td>560.0</td>\n",
       "      <td>263000.0</td>\n",
       "      <td>NaN</td>\n",
       "      <td>3200.0</td>\n",
       "      <td>0.0</td>\n",
       "      <td>NaN</td>\n",
       "      <td>117600.0</td>\n",
       "      <td>105.0</td>\n",
       "      <td>NaN</td>\n",
       "      <td>0.0</td>\n",
       "      <td>...</td>\n",
       "      <td>NaN</td>\n",
       "      <td>110.0</td>\n",
       "      <td>275000.0</td>\n",
       "      <td>NaN</td>\n",
       "      <td>24550.0</td>\n",
       "      <td>NaN</td>\n",
       "      <td>NaN</td>\n",
       "      <td>NaN</td>\n",
       "      <td>38400.0</td>\n",
       "      <td>NaN</td>\n",
       "    </tr>\n",
       "    <tr>\n",
       "      <th>CHUBUT</th>\n",
       "      <td>630.0</td>\n",
       "      <td>NaN</td>\n",
       "      <td>NaN</td>\n",
       "      <td>NaN</td>\n",
       "      <td>0.0</td>\n",
       "      <td>NaN</td>\n",
       "      <td>NaN</td>\n",
       "      <td>NaN</td>\n",
       "      <td>NaN</td>\n",
       "      <td>0.0</td>\n",
       "      <td>...</td>\n",
       "      <td>70.0</td>\n",
       "      <td>NaN</td>\n",
       "      <td>NaN</td>\n",
       "      <td>NaN</td>\n",
       "      <td>0.0</td>\n",
       "      <td>NaN</td>\n",
       "      <td>NaN</td>\n",
       "      <td>NaN</td>\n",
       "      <td>NaN</td>\n",
       "      <td>NaN</td>\n",
       "    </tr>\n",
       "    <tr>\n",
       "      <th>CORDOBA</th>\n",
       "      <td>1900.0</td>\n",
       "      <td>1220.0</td>\n",
       "      <td>900.0</td>\n",
       "      <td>NaN</td>\n",
       "      <td>1500.0</td>\n",
       "      <td>NaN</td>\n",
       "      <td>NaN</td>\n",
       "      <td>NaN</td>\n",
       "      <td>40500.0</td>\n",
       "      <td>1200.0</td>\n",
       "      <td>...</td>\n",
       "      <td>1000.0</td>\n",
       "      <td>NaN</td>\n",
       "      <td>1100000.0</td>\n",
       "      <td>NaN</td>\n",
       "      <td>638500.0</td>\n",
       "      <td>NaN</td>\n",
       "      <td>NaN</td>\n",
       "      <td>NaN</td>\n",
       "      <td>1320000.0</td>\n",
       "      <td>NaN</td>\n",
       "    </tr>\n",
       "  </tbody>\n",
       "</table>\n",
       "<p>5 rows × 33 columns</p>\n",
       "</div>"
      ],
      "text/plain": [
       "                            Ajo   Algodón   Alpiste   Arroz     Avena  Banana  \\\n",
       "campaña   provincia                                                             \n",
       "1969/1970 BUENOS AIRES  23458.0       NaN  104000.0     NaN  404700.0     NaN   \n",
       "          CATAMARCA        90.0     101.0       NaN     NaN     120.0     NaN   \n",
       "          CHACO           560.0  263000.0       NaN  3200.0       0.0     NaN   \n",
       "          CHUBUT          630.0       NaN       NaN     NaN       0.0     NaN   \n",
       "          CORDOBA        1900.0    1220.0     900.0     NaN    1500.0     NaN   \n",
       "\n",
       "                        Caña de azúcar  Cártamo  Cebada cervecera  \\\n",
       "campaña   provincia                                                 \n",
       "1969/1970 BUENOS AIRES             NaN      NaN          412800.0   \n",
       "          CATAMARCA                NaN      NaN               NaN   \n",
       "          CHACO               117600.0    105.0               NaN   \n",
       "          CHUBUT                   NaN      NaN               NaN   \n",
       "          CORDOBA                  NaN      NaN           40500.0   \n",
       "\n",
       "                        Cebada forrajera  ...  Poroto seco  Soja total  \\\n",
       "campaña   provincia                       ...                            \n",
       "1969/1970 BUENOS AIRES           60500.0  ...        180.0      1600.0   \n",
       "          CATAMARCA                400.0  ...        187.0         NaN   \n",
       "          CHACO                      0.0  ...          NaN       110.0   \n",
       "          CHUBUT                     0.0  ...         70.0         NaN   \n",
       "          CORDOBA                 1200.0  ...       1000.0         NaN   \n",
       "\n",
       "                            Sorgo  Té  Trigo total  Trigo candeal  Tung  \\\n",
       "campaña   provincia                                                       \n",
       "1969/1970 BUENOS AIRES   880000.0 NaN    4882600.0            NaN   NaN   \n",
       "          CATAMARCA         100.0 NaN        450.0            NaN   NaN   \n",
       "          CHACO          275000.0 NaN      24550.0            NaN   NaN   \n",
       "          CHUBUT              NaN NaN          0.0            NaN   NaN   \n",
       "          CORDOBA       1100000.0 NaN     638500.0            NaN   NaN   \n",
       "\n",
       "                        Yerba mate       Maíz  Cebada total  \n",
       "campaña   provincia                                          \n",
       "1969/1970 BUENOS AIRES         NaN  3729800.0           NaN  \n",
       "          CATAMARCA            NaN     1500.0           NaN  \n",
       "          CHACO                NaN    38400.0           NaN  \n",
       "          CHUBUT               NaN        NaN           NaN  \n",
       "          CORDOBA              NaN  1320000.0           NaN  \n",
       "\n",
       "[5 rows x 33 columns]"
      ]
     },
     "execution_count": 5,
     "metadata": {},
     "output_type": "execute_result"
    }
   ],
   "source": [
    "#   Se realiza un proceso similar al que se realizó durante el EDA. Se genera un diccionario que tendrá una entrada por cada \n",
    "#   cultivo y cuyas columnas serán para cada campaña, la producción de ese cultivo por provincia. Esto vuelve a generar una \n",
    "#   tabla con Nans debido a que no todos los cultivos se producen en todas las pronvincias y hay cultivos que no tienen datos\n",
    "#   para todos los años que abarca el dataset.\n",
    "\n",
    "k = {}\n",
    "for i in range(1,34):\n",
    "    aux= granos[(granos.id_cultivo == i)]\n",
    "    aux=aux.groupby(['campaña',\"provincia\"], as_index=True)['produccion'].sum()\n",
    "    aux=pd.DataFrame(aux)\n",
    "    k[i] = aux.iloc[:,0]\n",
    "    \n",
    "#   Luego de generado el diccionario, se lo transforma en un data set cuyas column labels son los id de cultivos. y se vuelve a\n",
    "#   iterar con ayuda del DataFrame \"cultivos\", para renombrar todas las columnas, reemplazando el id de cultivo con el nombre\n",
    "#   del cultivo con el que se corresponde. Se realiza un df.head() para  visualizar la forma final del DataFrame.\n",
    "\n",
    "mod1 = pd.DataFrame.from_dict(k)\n",
    "for i in range (1,34):\n",
    "    if i in mod1.columns:\n",
    "        l = str (cultivos.at[i,\"cultivo\"])\n",
    "        mod1.rename(columns = { i : l}, inplace=True)\n",
    "mod1.head()"
   ]
  },
  {
   "cell_type": "code",
   "execution_count": 6,
   "metadata": {},
   "outputs": [],
   "source": [
    "#   El atributo \"provincia\" que se había importado como índice, se transforma en columna\n",
    "\n",
    "mod1.reset_index(\"provincia\", inplace=True)"
   ]
  },
  {
   "cell_type": "code",
   "execution_count": 7,
   "metadata": {},
   "outputs": [],
   "source": [
    "#  Se elimina el año en el que fue tomada la muestra, ya que es un dato que no necesitamos para lograr el objetivo de este\n",
    "#  clasificador.\n",
    "\n",
    "mod1.reset_index(drop=True, inplace=True)"
   ]
  },
  {
   "cell_type": "markdown",
   "metadata": {},
   "source": [
    "A diferencia del criterio que se tomó durante la realización del EDA, en este caso se optó por reemplazar a todos los nulls \n",
    "por 0. Esto es así debido a que todas las muestras y todas las columnas los tenían (debido a las razones explicadas anteriormente), por lo que eliminarlos no era una opción y reemplazarlos por el promedio tampoco, ya que al ser cada cultivo una columna, de esta manera se hubiera llenado a distintas provincias con un mismo promedio de producción, lo cual es erróneo ya que no todos los cultivos se producen en todas las provincias ni el nivel de producción es el mismo en las distintas provincias que si los cosechan.\n",
    "\n",
    "Si bien sabemos que esto producirá un poco de ruido en el modelo, definimos que era la mejor opción que se podía tomar."
   ]
  },
  {
   "cell_type": "code",
   "execution_count": 8,
   "metadata": {},
   "outputs": [
    {
     "data": {
      "text/html": [
       "<div>\n",
       "<style scoped>\n",
       "    .dataframe tbody tr th:only-of-type {\n",
       "        vertical-align: middle;\n",
       "    }\n",
       "\n",
       "    .dataframe tbody tr th {\n",
       "        vertical-align: top;\n",
       "    }\n",
       "\n",
       "    .dataframe thead th {\n",
       "        text-align: right;\n",
       "    }\n",
       "</style>\n",
       "<table border=\"1\" class=\"dataframe\">\n",
       "  <thead>\n",
       "    <tr style=\"text-align: right;\">\n",
       "      <th></th>\n",
       "      <th>provincia</th>\n",
       "      <th>Ajo</th>\n",
       "      <th>Algodón</th>\n",
       "      <th>Alpiste</th>\n",
       "      <th>Arroz</th>\n",
       "      <th>Avena</th>\n",
       "      <th>Banana</th>\n",
       "      <th>Caña de azúcar</th>\n",
       "      <th>Cártamo</th>\n",
       "      <th>Cebada cervecera</th>\n",
       "      <th>...</th>\n",
       "      <th>Poroto seco</th>\n",
       "      <th>Soja total</th>\n",
       "      <th>Sorgo</th>\n",
       "      <th>Té</th>\n",
       "      <th>Trigo total</th>\n",
       "      <th>Trigo candeal</th>\n",
       "      <th>Tung</th>\n",
       "      <th>Yerba mate</th>\n",
       "      <th>Maíz</th>\n",
       "      <th>Cebada total</th>\n",
       "    </tr>\n",
       "  </thead>\n",
       "  <tbody>\n",
       "    <tr>\n",
       "      <th>0</th>\n",
       "      <td>BUENOS AIRES</td>\n",
       "      <td>23458.0</td>\n",
       "      <td>0.0</td>\n",
       "      <td>104000.0</td>\n",
       "      <td>0.0</td>\n",
       "      <td>404700.0</td>\n",
       "      <td>0.0</td>\n",
       "      <td>0.0</td>\n",
       "      <td>0.0</td>\n",
       "      <td>412800.0</td>\n",
       "      <td>...</td>\n",
       "      <td>180.0</td>\n",
       "      <td>1600.0</td>\n",
       "      <td>880000.0</td>\n",
       "      <td>0.0</td>\n",
       "      <td>4882600.0</td>\n",
       "      <td>0.0</td>\n",
       "      <td>0.0</td>\n",
       "      <td>0.0</td>\n",
       "      <td>3729800.0</td>\n",
       "      <td>0.0</td>\n",
       "    </tr>\n",
       "    <tr>\n",
       "      <th>1</th>\n",
       "      <td>CATAMARCA</td>\n",
       "      <td>90.0</td>\n",
       "      <td>101.0</td>\n",
       "      <td>0.0</td>\n",
       "      <td>0.0</td>\n",
       "      <td>120.0</td>\n",
       "      <td>0.0</td>\n",
       "      <td>0.0</td>\n",
       "      <td>0.0</td>\n",
       "      <td>0.0</td>\n",
       "      <td>...</td>\n",
       "      <td>187.0</td>\n",
       "      <td>0.0</td>\n",
       "      <td>100.0</td>\n",
       "      <td>0.0</td>\n",
       "      <td>450.0</td>\n",
       "      <td>0.0</td>\n",
       "      <td>0.0</td>\n",
       "      <td>0.0</td>\n",
       "      <td>1500.0</td>\n",
       "      <td>0.0</td>\n",
       "    </tr>\n",
       "    <tr>\n",
       "      <th>2</th>\n",
       "      <td>CHACO</td>\n",
       "      <td>560.0</td>\n",
       "      <td>263000.0</td>\n",
       "      <td>0.0</td>\n",
       "      <td>3200.0</td>\n",
       "      <td>0.0</td>\n",
       "      <td>0.0</td>\n",
       "      <td>117600.0</td>\n",
       "      <td>105.0</td>\n",
       "      <td>0.0</td>\n",
       "      <td>...</td>\n",
       "      <td>0.0</td>\n",
       "      <td>110.0</td>\n",
       "      <td>275000.0</td>\n",
       "      <td>0.0</td>\n",
       "      <td>24550.0</td>\n",
       "      <td>0.0</td>\n",
       "      <td>0.0</td>\n",
       "      <td>0.0</td>\n",
       "      <td>38400.0</td>\n",
       "      <td>0.0</td>\n",
       "    </tr>\n",
       "    <tr>\n",
       "      <th>3</th>\n",
       "      <td>CHUBUT</td>\n",
       "      <td>630.0</td>\n",
       "      <td>0.0</td>\n",
       "      <td>0.0</td>\n",
       "      <td>0.0</td>\n",
       "      <td>0.0</td>\n",
       "      <td>0.0</td>\n",
       "      <td>0.0</td>\n",
       "      <td>0.0</td>\n",
       "      <td>0.0</td>\n",
       "      <td>...</td>\n",
       "      <td>70.0</td>\n",
       "      <td>0.0</td>\n",
       "      <td>0.0</td>\n",
       "      <td>0.0</td>\n",
       "      <td>0.0</td>\n",
       "      <td>0.0</td>\n",
       "      <td>0.0</td>\n",
       "      <td>0.0</td>\n",
       "      <td>0.0</td>\n",
       "      <td>0.0</td>\n",
       "    </tr>\n",
       "    <tr>\n",
       "      <th>4</th>\n",
       "      <td>CORDOBA</td>\n",
       "      <td>1900.0</td>\n",
       "      <td>1220.0</td>\n",
       "      <td>900.0</td>\n",
       "      <td>0.0</td>\n",
       "      <td>1500.0</td>\n",
       "      <td>0.0</td>\n",
       "      <td>0.0</td>\n",
       "      <td>0.0</td>\n",
       "      <td>40500.0</td>\n",
       "      <td>...</td>\n",
       "      <td>1000.0</td>\n",
       "      <td>0.0</td>\n",
       "      <td>1100000.0</td>\n",
       "      <td>0.0</td>\n",
       "      <td>638500.0</td>\n",
       "      <td>0.0</td>\n",
       "      <td>0.0</td>\n",
       "      <td>0.0</td>\n",
       "      <td>1320000.0</td>\n",
       "      <td>0.0</td>\n",
       "    </tr>\n",
       "    <tr>\n",
       "      <th>5</th>\n",
       "      <td>CORRIENTES</td>\n",
       "      <td>0.0</td>\n",
       "      <td>11800.0</td>\n",
       "      <td>0.0</td>\n",
       "      <td>122200.0</td>\n",
       "      <td>0.0</td>\n",
       "      <td>0.0</td>\n",
       "      <td>8600.0</td>\n",
       "      <td>0.0</td>\n",
       "      <td>0.0</td>\n",
       "      <td>...</td>\n",
       "      <td>0.0</td>\n",
       "      <td>630.0</td>\n",
       "      <td>4500.0</td>\n",
       "      <td>6000.0</td>\n",
       "      <td>1150.0</td>\n",
       "      <td>0.0</td>\n",
       "      <td>3600.0</td>\n",
       "      <td>5939.0</td>\n",
       "      <td>96400.0</td>\n",
       "      <td>0.0</td>\n",
       "    </tr>\n",
       "    <tr>\n",
       "      <th>6</th>\n",
       "      <td>ENTRE RIOS</td>\n",
       "      <td>190.0</td>\n",
       "      <td>180.0</td>\n",
       "      <td>0.0</td>\n",
       "      <td>209400.0</td>\n",
       "      <td>3500.0</td>\n",
       "      <td>0.0</td>\n",
       "      <td>0.0</td>\n",
       "      <td>0.0</td>\n",
       "      <td>0.0</td>\n",
       "      <td>...</td>\n",
       "      <td>0.0</td>\n",
       "      <td>0.0</td>\n",
       "      <td>335000.0</td>\n",
       "      <td>0.0</td>\n",
       "      <td>219600.0</td>\n",
       "      <td>0.0</td>\n",
       "      <td>0.0</td>\n",
       "      <td>0.0</td>\n",
       "      <td>810000.0</td>\n",
       "      <td>0.0</td>\n",
       "    </tr>\n",
       "    <tr>\n",
       "      <th>7</th>\n",
       "      <td>FORMOSA</td>\n",
       "      <td>30.0</td>\n",
       "      <td>66400.0</td>\n",
       "      <td>0.0</td>\n",
       "      <td>10500.0</td>\n",
       "      <td>0.0</td>\n",
       "      <td>200100.0</td>\n",
       "      <td>2400.0</td>\n",
       "      <td>0.0</td>\n",
       "      <td>0.0</td>\n",
       "      <td>...</td>\n",
       "      <td>68.0</td>\n",
       "      <td>160.0</td>\n",
       "      <td>31300.0</td>\n",
       "      <td>0.0</td>\n",
       "      <td>590.0</td>\n",
       "      <td>0.0</td>\n",
       "      <td>0.0</td>\n",
       "      <td>0.0</td>\n",
       "      <td>15000.0</td>\n",
       "      <td>0.0</td>\n",
       "    </tr>\n",
       "    <tr>\n",
       "      <th>8</th>\n",
       "      <td>JUJUY</td>\n",
       "      <td>256.0</td>\n",
       "      <td>1102.0</td>\n",
       "      <td>0.0</td>\n",
       "      <td>0.0</td>\n",
       "      <td>0.0</td>\n",
       "      <td>0.0</td>\n",
       "      <td>2100000.0</td>\n",
       "      <td>0.0</td>\n",
       "      <td>0.0</td>\n",
       "      <td>...</td>\n",
       "      <td>548.0</td>\n",
       "      <td>0.0</td>\n",
       "      <td>0.0</td>\n",
       "      <td>0.0</td>\n",
       "      <td>878.0</td>\n",
       "      <td>0.0</td>\n",
       "      <td>0.0</td>\n",
       "      <td>0.0</td>\n",
       "      <td>2600.0</td>\n",
       "      <td>0.0</td>\n",
       "    </tr>\n",
       "    <tr>\n",
       "      <th>9</th>\n",
       "      <td>LA PAMPA</td>\n",
       "      <td>0.0</td>\n",
       "      <td>0.0</td>\n",
       "      <td>0.0</td>\n",
       "      <td>0.0</td>\n",
       "      <td>11500.0</td>\n",
       "      <td>0.0</td>\n",
       "      <td>0.0</td>\n",
       "      <td>0.0</td>\n",
       "      <td>32500.0</td>\n",
       "      <td>...</td>\n",
       "      <td>0.0</td>\n",
       "      <td>0.0</td>\n",
       "      <td>233000.0</td>\n",
       "      <td>0.0</td>\n",
       "      <td>599700.0</td>\n",
       "      <td>0.0</td>\n",
       "      <td>0.0</td>\n",
       "      <td>0.0</td>\n",
       "      <td>165000.0</td>\n",
       "      <td>0.0</td>\n",
       "    </tr>\n",
       "  </tbody>\n",
       "</table>\n",
       "<p>10 rows × 34 columns</p>\n",
       "</div>"
      ],
      "text/plain": [
       "      provincia      Ajo   Algodón   Alpiste     Arroz     Avena    Banana  \\\n",
       "0  BUENOS AIRES  23458.0       0.0  104000.0       0.0  404700.0       0.0   \n",
       "1     CATAMARCA     90.0     101.0       0.0       0.0     120.0       0.0   \n",
       "2         CHACO    560.0  263000.0       0.0    3200.0       0.0       0.0   \n",
       "3        CHUBUT    630.0       0.0       0.0       0.0       0.0       0.0   \n",
       "4       CORDOBA   1900.0    1220.0     900.0       0.0    1500.0       0.0   \n",
       "5    CORRIENTES      0.0   11800.0       0.0  122200.0       0.0       0.0   \n",
       "6    ENTRE RIOS    190.0     180.0       0.0  209400.0    3500.0       0.0   \n",
       "7       FORMOSA     30.0   66400.0       0.0   10500.0       0.0  200100.0   \n",
       "8         JUJUY    256.0    1102.0       0.0       0.0       0.0       0.0   \n",
       "9      LA PAMPA      0.0       0.0       0.0       0.0   11500.0       0.0   \n",
       "\n",
       "   Caña de azúcar  Cártamo  Cebada cervecera  ...  Poroto seco  Soja total  \\\n",
       "0             0.0      0.0          412800.0  ...        180.0      1600.0   \n",
       "1             0.0      0.0               0.0  ...        187.0         0.0   \n",
       "2        117600.0    105.0               0.0  ...          0.0       110.0   \n",
       "3             0.0      0.0               0.0  ...         70.0         0.0   \n",
       "4             0.0      0.0           40500.0  ...       1000.0         0.0   \n",
       "5          8600.0      0.0               0.0  ...          0.0       630.0   \n",
       "6             0.0      0.0               0.0  ...          0.0         0.0   \n",
       "7          2400.0      0.0               0.0  ...         68.0       160.0   \n",
       "8       2100000.0      0.0               0.0  ...        548.0         0.0   \n",
       "9             0.0      0.0           32500.0  ...          0.0         0.0   \n",
       "\n",
       "       Sorgo      Té  Trigo total  Trigo candeal    Tung  Yerba mate  \\\n",
       "0   880000.0     0.0    4882600.0            0.0     0.0         0.0   \n",
       "1      100.0     0.0        450.0            0.0     0.0         0.0   \n",
       "2   275000.0     0.0      24550.0            0.0     0.0         0.0   \n",
       "3        0.0     0.0          0.0            0.0     0.0         0.0   \n",
       "4  1100000.0     0.0     638500.0            0.0     0.0         0.0   \n",
       "5     4500.0  6000.0       1150.0            0.0  3600.0      5939.0   \n",
       "6   335000.0     0.0     219600.0            0.0     0.0         0.0   \n",
       "7    31300.0     0.0        590.0            0.0     0.0         0.0   \n",
       "8        0.0     0.0        878.0            0.0     0.0         0.0   \n",
       "9   233000.0     0.0     599700.0            0.0     0.0         0.0   \n",
       "\n",
       "        Maíz  Cebada total  \n",
       "0  3729800.0           0.0  \n",
       "1     1500.0           0.0  \n",
       "2    38400.0           0.0  \n",
       "3        0.0           0.0  \n",
       "4  1320000.0           0.0  \n",
       "5    96400.0           0.0  \n",
       "6   810000.0           0.0  \n",
       "7    15000.0           0.0  \n",
       "8     2600.0           0.0  \n",
       "9   165000.0           0.0  \n",
       "\n",
       "[10 rows x 34 columns]"
      ]
     },
     "execution_count": 8,
     "metadata": {},
     "output_type": "execute_result"
    }
   ],
   "source": [
    "#   Se procede a rellenar los NaNs con 0.\n",
    "\n",
    "mod1.fillna(0, inplace=True)\n",
    "mod1.head(10)"
   ]
  },
  {
   "cell_type": "code",
   "execution_count": 9,
   "metadata": {},
   "outputs": [],
   "source": [
    "#   Separamos nuestros datos en etiquetas y variables dependientes.\n",
    "\n",
    "X = mod1.iloc[:,1:35]                     \n",
    "Y = mod1.iloc[:,0]    "
   ]
  },
  {
   "cell_type": "code",
   "execution_count": 10,
   "metadata": {},
   "outputs": [],
   "source": [
    "#   Transformamos en variables numéricas a nuestras etiquetas. Se puede visualizar su valor final eliminando la última anotación\n",
    "#   de esta celda.\n",
    "\n",
    "le = preprocessing.LabelEncoder()\n",
    "Y=le.fit_transform(Y)\n",
    "#Y"
   ]
  },
  {
   "cell_type": "code",
   "execution_count": 11,
   "metadata": {},
   "outputs": [
    {
     "name": "stdout",
     "output_type": "stream",
     "text": [
      "(652, 33)\n",
      "(280, 33)\n"
     ]
    }
   ],
   "source": [
    "#   Separamos nuestro set de datos en train y test y visualizamos el tamaño de cada set de muestras.\n",
    "\n",
    "Xtrain, Xtest, Ytrain, Ytest = train_test_split(X, Y, test_size=0.3, random_state=9000)\n",
    "print(Xtrain.shape)\n",
    "print(Xtest.shape)"
   ]
  },
  {
   "cell_type": "code",
   "execution_count": 12,
   "metadata": {},
   "outputs": [],
   "source": [
    "#   Aplicamos un standard scaler a nuestros datos ya que KNN funciona mejor con datos escalados en este caso.\n",
    "\n",
    "scaler = preprocessing.StandardScaler().fit(Xtrain)\n",
    "Xtrainsca = scaler.transform(Xtrain)\n",
    "xtestsca = scaler.transform(Xtest) "
   ]
  },
  {
   "cell_type": "code",
   "execution_count": 13,
   "metadata": {},
   "outputs": [
    {
     "name": "stdout",
     "output_type": "stream",
     "text": [
      "Fitting 5 folds for each of 28 candidates, totalling 140 fits\n"
     ]
    },
    {
     "name": "stderr",
     "output_type": "stream",
     "text": [
      "C:\\Users\\Santi\\Anaconda3\\lib\\site-packages\\sklearn\\model_selection\\_split.py:657: Warning: The least populated class in y has only 2 members, which is too few. The minimum number of members in any class cannot be less than n_splits=5.\n",
      "  % (min_groups, self.n_splits)), Warning)\n",
      "[Parallel(n_jobs=1)]: Using backend SequentialBackend with 1 concurrent workers.\n",
      "[Parallel(n_jobs=1)]: Done 140 out of 140 | elapsed:    1.1s finished\n",
      "C:\\Users\\Santi\\Anaconda3\\lib\\site-packages\\sklearn\\model_selection\\_search.py:813: DeprecationWarning: The default of the `iid` parameter will change from True to False in version 0.22 and will be removed in 0.24. This will change numeric results when test-set sizes are unequal.\n",
      "  DeprecationWarning)\n"
     ]
    },
    {
     "data": {
      "text/plain": [
       "GridSearchCV(cv=5, error_score='raise-deprecating',\n",
       "             estimator=KNeighborsClassifier(algorithm='auto', leaf_size=30,\n",
       "                                            metric='minkowski',\n",
       "                                            metric_params=None, n_jobs=None,\n",
       "                                            n_neighbors=5, p=2,\n",
       "                                            weights='uniform'),\n",
       "             iid='warn', n_jobs=None,\n",
       "             param_grid=[{'n_neighbors': [1, 2, 3, 4, 5, 6, 7], 'p': [1, 2],\n",
       "                          'weights': ['uniform', 'distance']}],\n",
       "             pre_dispatch='2*n_jobs', refit=True, return_train_score=False,\n",
       "             scoring=None, verbose=True)"
      ]
     },
     "execution_count": 13,
     "metadata": {},
     "output_type": "execute_result"
    }
   ],
   "source": [
    "#   Generamos nuestro clasificador de KNN mediante un GridSearch Cross Validation y se lo fitea a nuestros datos.\n",
    "\n",
    "parameters = [{\"n_neighbors\" : [1,2,3,4,5,6,7], \"weights\" : [\"uniform\",\"distance\"], \"p\" : [1,2]}]\n",
    "knn = KNeighborsClassifier()\n",
    "clas = GridSearchCV (knn, parameters, cv=5, verbose=True)\n",
    "clas.fit(Xtrainsca, Ytrain) "
   ]
  },
  {
   "cell_type": "code",
   "execution_count": 14,
   "metadata": {},
   "outputs": [
    {
     "name": "stdout",
     "output_type": "stream",
     "text": [
      "Los mejores parametros son {'n_neighbors': 1, 'p': 1, 'weights': 'uniform'} con un valor de train accuracy de 0.9601\n"
     ]
    }
   ],
   "source": [
    "print(\"Los mejores parametros son %s con un valor de train accuracy de %0.4f\" % (clas.best_params_, clas.best_score_))"
   ]
  },
  {
   "cell_type": "code",
   "execution_count": 15,
   "metadata": {},
   "outputs": [],
   "source": [
    "#   Se realiza la predicción del Ytest en función de la aplicación de nuestro claisificador al Xtest escalado.\n",
    "\n",
    "ypred = clas.predict(xtestsca)"
   ]
  },
  {
   "cell_type": "code",
   "execution_count": 16,
   "metadata": {},
   "outputs": [
    {
     "name": "stdout",
     "output_type": "stream",
     "text": [
      "El accuracy es 0.9393\n"
     ]
    }
   ],
   "source": [
    "#   Se visualiza la precisión de la predicción y generalización de nuestro modelo  \n",
    "\n",
    "test_acc = accuracy_score(Ytest, ypred)\n",
    "print(\"El accuracy es %0.4f\" % (test_acc))"
   ]
  },
  {
   "cell_type": "code",
   "execution_count": 17,
   "metadata": {},
   "outputs": [
    {
     "data": {
      "image/png": "[encoded data removed]",
      "text/plain": [
       "<Figure size 1440x1440 with 2 Axes>"
      ]
     },
     "metadata": {
      "needs_background": "light"
     },
     "output_type": "display_data"
    }
   ],
   "source": [
    "#   Se grafica una matriz de confusión, mostrando como desarrolló nuestro modelo la predicción. Se hace un inverse transform\n",
    "#   a nuestras etiquetas para que muestren el nombre de la provincia en vez del valor numérico que se les había dado para poder\n",
    "#   modelizar.\n",
    "\n",
    "cm = confusion_matrix(Ytest, ypred)\n",
    "df_cm = pd.DataFrame(cm, index = [i for i in np.unique(le.inverse_transform(Y))],columns = [i for i in np.unique(le.inverse_transform(Y))])\n",
    "plt.figure(figsize = (20,20))\n",
    "sns.heatmap(df_cm, annot=True, cmap=\"YlGnBu\")\n",
    "plt.show()"
   ]
  },
  {
   "cell_type": "markdown",
   "metadata": {},
   "source": [
    "<font size=\"6\"><b>Modelo 2: K-means Clustering"
   ]
  },
  {
   "cell_type": "markdown",
   "metadata": {},
   "source": [
    "Como segundo modelo a entrenar con nuestros datos se decidió realizar un clustering en función del rendimiento (Toneladas producidas por hectárea cosechada) de cada cultivo en cada provincia. La idea era obtene 5 clusters distintos que agruparan a las distintas combinaciones de estas variables."
   ]
  },
  {
   "cell_type": "code",
   "execution_count": 18,
   "metadata": {},
   "outputs": [
    {
     "data": {
      "text/plain": [
       "<matplotlib.axes._subplots.AxesSubplot at 0x2d0edce60b8>"
      ]
     },
     "execution_count": 18,
     "metadata": {},
     "output_type": "execute_result"
    },
    {
     "data": {
      "image/png": "[encoded data removed]",
      "text/plain": [
       "<Figure size 432x288 with 1 Axes>"
      ]
     },
     "metadata": {
      "needs_background": "light"
     },
     "output_type": "display_data"
    }
   ],
   "source": [
    "#   Antes de comenzar con la realización del modelo se decidió visualizar con un histograma la cantidad de samples que \n",
    "#   compartían un mismo rango de rendimiento, independientemente del cultivo y de la provincia.\n",
    "\n",
    "mod2og = granos.groupby(['provincia','cultivo'], as_index=False)['rendimiento'].mean()\n",
    "vis = mod2og.nsmallest(500, 'rendimiento')\n",
    "vis.plot(kind =\"hist\", title = \"Distribución del rendimiento de las muestras\")"
   ]
  },
  {
   "cell_type": "code",
   "execution_count": 19,
   "metadata": {},
   "outputs": [
    {
     "data": {
      "text/html": [
       "<div>\n",
       "<style scoped>\n",
       "    .dataframe tbody tr th:only-of-type {\n",
       "        vertical-align: middle;\n",
       "    }\n",
       "\n",
       "    .dataframe tbody tr th {\n",
       "        vertical-align: top;\n",
       "    }\n",
       "\n",
       "    .dataframe thead th {\n",
       "        text-align: right;\n",
       "    }\n",
       "</style>\n",
       "<table border=\"1\" class=\"dataframe\">\n",
       "  <thead>\n",
       "    <tr style=\"text-align: right;\">\n",
       "      <th></th>\n",
       "      <th>provincia</th>\n",
       "      <th>cultivo</th>\n",
       "      <th>rendimiento</th>\n",
       "    </tr>\n",
       "  </thead>\n",
       "  <tbody>\n",
       "    <tr>\n",
       "      <th>0</th>\n",
       "      <td>BUENOS AIRES</td>\n",
       "      <td>Ajo</td>\n",
       "      <td>3978.088748</td>\n",
       "    </tr>\n",
       "    <tr>\n",
       "      <th>1</th>\n",
       "      <td>BUENOS AIRES</td>\n",
       "      <td>Alpiste</td>\n",
       "      <td>954.178904</td>\n",
       "    </tr>\n",
       "    <tr>\n",
       "      <th>2</th>\n",
       "      <td>BUENOS AIRES</td>\n",
       "      <td>Avena</td>\n",
       "      <td>1504.611014</td>\n",
       "    </tr>\n",
       "    <tr>\n",
       "      <th>3</th>\n",
       "      <td>BUENOS AIRES</td>\n",
       "      <td>Cebada cervecera</td>\n",
       "      <td>2414.116224</td>\n",
       "    </tr>\n",
       "    <tr>\n",
       "      <th>4</th>\n",
       "      <td>BUENOS AIRES</td>\n",
       "      <td>Cebada forrajera</td>\n",
       "      <td>625.169038</td>\n",
       "    </tr>\n",
       "    <tr>\n",
       "      <th>5</th>\n",
       "      <td>BUENOS AIRES</td>\n",
       "      <td>Cebada total</td>\n",
       "      <td>4096.151408</td>\n",
       "    </tr>\n",
       "    <tr>\n",
       "      <th>6</th>\n",
       "      <td>BUENOS AIRES</td>\n",
       "      <td>Cebolla total</td>\n",
       "      <td>9996.105611</td>\n",
       "    </tr>\n",
       "    <tr>\n",
       "      <th>7</th>\n",
       "      <td>BUENOS AIRES</td>\n",
       "      <td>Centeno</td>\n",
       "      <td>761.004082</td>\n",
       "    </tr>\n",
       "    <tr>\n",
       "      <th>8</th>\n",
       "      <td>BUENOS AIRES</td>\n",
       "      <td>Colza</td>\n",
       "      <td>1630.526035</td>\n",
       "    </tr>\n",
       "    <tr>\n",
       "      <th>9</th>\n",
       "      <td>BUENOS AIRES</td>\n",
       "      <td>Cártamo</td>\n",
       "      <td>602.409091</td>\n",
       "    </tr>\n",
       "  </tbody>\n",
       "</table>\n",
       "</div>"
      ],
      "text/plain": [
       "      provincia           cultivo  rendimiento\n",
       "0  BUENOS AIRES               Ajo  3978.088748\n",
       "1  BUENOS AIRES           Alpiste   954.178904\n",
       "2  BUENOS AIRES             Avena  1504.611014\n",
       "3  BUENOS AIRES  Cebada cervecera  2414.116224\n",
       "4  BUENOS AIRES  Cebada forrajera   625.169038\n",
       "5  BUENOS AIRES      Cebada total  4096.151408\n",
       "6  BUENOS AIRES     Cebolla total  9996.105611\n",
       "7  BUENOS AIRES           Centeno   761.004082\n",
       "8  BUENOS AIRES             Colza  1630.526035\n",
       "9  BUENOS AIRES           Cártamo   602.409091"
      ]
     },
     "execution_count": 19,
     "metadata": {},
     "output_type": "execute_result"
    }
   ],
   "source": [
    "#   Visualización de la estructura del DataFrame\n",
    "\n",
    "mod2og.head(10)"
   ]
  },
  {
   "cell_type": "code",
   "execution_count": 20,
   "metadata": {},
   "outputs": [],
   "source": [
    "#   Generación de dummies para las columnas provincia y cultivo ya que sus valores no son numéricos.\n",
    "\n",
    "provdum = pd.get_dummies(mod2og.provincia)\n",
    "culdum = pd.get_dummies(mod2og.cultivo)"
   ]
  },
  {
   "cell_type": "code",
   "execution_count": 21,
   "metadata": {},
   "outputs": [
    {
     "data": {
      "text/plain": [
       "(419, 57)"
      ]
     },
     "execution_count": 21,
     "metadata": {},
     "output_type": "execute_result"
    }
   ],
   "source": [
    "#   Unión de los dummies al DataFrame y df.head() para visualización. Se decide generar un nuevo DataFrame para conservar el \n",
    "#   original, con el objetivo de podes indicar a que cluster pertenece cada muestra luego de la modelización.\n",
    "\n",
    "mod2 = mod2og.join([provdum, culdum])\n",
    "mod2.drop(columns=['provincia','cultivo'], inplace=True)\n",
    "mod2.shape"
   ]
  },
  {
   "cell_type": "code",
   "execution_count": 22,
   "metadata": {},
   "outputs": [],
   "source": [
    "#   Se aplica un pca para poder graficar los datos en dos dimensiones. Naturalmente, la feature más significativa (y por mucho)\n",
    "#   es el dato del rendimiento en sí lo que va a hacer que se pueda explicar el modelo sólo con una componente principal.\n",
    "#   A razón de que el rendimiento es la variable principal, se decidió no escalarlo.\n",
    "\n",
    "# Usamos el objeto PCA de la libreria\n",
    "comp=5\n",
    "pca = decomposition.PCA(n_components=comp)\n",
    "# Ajustamos\n",
    "pca.fit(mod2)\n",
    "# Transformamos\n",
    "xpca = pca.transform(mod2)\n",
    "\n",
    "# obtenemos los auto valores (eigenvalues) que representan cuanta varianza explica cada componente principal.\n",
    "eigenvalues = pca.explained_variance_ratio_ # Porcentaje de la varianza explicada por cada PC\n",
    "eigenvalues_acum = pca.explained_variance_ratio_.cumsum() "
   ]
  },
  {
   "cell_type": "code",
   "execution_count": 23,
   "metadata": {},
   "outputs": [
    {
     "data": {
      "image/png": "[encoded data removed]",
      "text/plain": [
       "<Figure size 432x288 with 2 Axes>"
      ]
     },
     "metadata": {
      "needs_background": "light"
     },
     "output_type": "display_data"
    }
   ],
   "source": [
    "# visualizamos los autovalores\n",
    "\n",
    "fig, ax1 = plt.subplots()\n",
    "ax1.set_xlabel('Top PC')\n",
    "ax1.set_ylabel('Varianza Explicada', color='blue')\n",
    "ax1.bar(range(1,comp+1), eigenvalues, color='blue')\n",
    "ax1.tick_params(axis='y', labelcolor='blue')\n",
    "\n",
    "ax2 = ax1.twinx()  # instantiate a second axes that shares the same x-axis\n",
    "ax2.set_ylabel('Varianza Acumulada', color='red')  # we already handled the x-label with ax1\n",
    "ax2.plot(range(1,comp+1), eigenvalues_acum, color='red')\n",
    "ax2.tick_params(axis='y', labelcolor='red')\n",
    "\n",
    "fig.tight_layout()  # otherwise the right y-label is slightly clipped\n",
    "plt.show()"
   ]
  },
  {
   "cell_type": "code",
   "execution_count": 24,
   "metadata": {},
   "outputs": [
    {
     "data": {
      "image/png": "[encoded data removed]",
      "text/plain": [
       "<Figure size 648x432 with 1 Axes>"
      ]
     },
     "metadata": {
      "needs_background": "light"
     },
     "output_type": "display_data"
    }
   ],
   "source": [
    "#   gráfico de las muestras en función de las dos componentes principales del PCA.\n",
    "\n",
    "plt.figure(figsize=(9,6))\n",
    "plt.scatter(xpca[:,0],xpca[:,1])    \n",
    "plt.xlabel('PC 1')\n",
    "plt.ylabel('PC 2')\n",
    "plt.title('Figura de PC1 y PC2')\n",
    "plt.show()"
   ]
  },
  {
   "cell_type": "code",
   "execution_count": 25,
   "metadata": {},
   "outputs": [
    {
     "data": {
      "text/plain": [
       "KMeans(algorithm='auto', copy_x=True, init='k-means++', max_iter=300,\n",
       "       n_clusters=5, n_init=15, n_jobs=None, precompute_distances='auto',\n",
       "       random_state=8000, tol=0.0001, verbose=0)"
      ]
     },
     "execution_count": 25,
     "metadata": {},
     "output_type": "execute_result"
    }
   ],
   "source": [
    "#   Generamos nuestro modelo de K-means con 5 clusters y lo ajustamos a nuestros datos.\n",
    "\n",
    "km = KMeans(n_clusters = 5, n_init = 15, random_state=8000)\n",
    "km.fit(mod2)"
   ]
  },
  {
   "cell_type": "code",
   "execution_count": 26,
   "metadata": {},
   "outputs": [
    {
     "name": "stdout",
     "output_type": "stream",
     "text": [
      "0.6970941572185718\n"
     ]
    }
   ],
   "source": [
    "#   Revisamos el valor de silhouette del modelo.\n",
    "\n",
    "sill_score_km = metrics.silhouette_score(mod2,km.labels_)\n",
    "print(sill_score_km)"
   ]
  },
  {
   "cell_type": "code",
   "execution_count": 27,
   "metadata": {},
   "outputs": [],
   "source": [
    "#   Se realiza un Kmeans para los datos luego de aplicado un pca con el fin de poder graficar los centroides de los clusters\n",
    "\n",
    "reduced_dim = 2\n",
    "xpca_rd = xpca[:,0:reduced_dim]\n",
    "kmeans_rd = KMeans(n_clusters=5, random_state=10).fit(xpca_rd)\n",
    "centers_rd = kmeans_rd.cluster_centers_"
   ]
  },
  {
   "cell_type": "code",
   "execution_count": 28,
   "metadata": {},
   "outputs": [
    {
     "data": {
      "image/png": "[encoded data removed]",
      "text/plain": [
       "<Figure size 648x432 with 1 Axes>"
      ]
     },
     "metadata": {
      "needs_background": "light"
     },
     "output_type": "display_data"
    }
   ],
   "source": [
    "#   Se grafica en un Scatter Plot a que cluster pertenece cada sample y la posición de los centroides de los clusters.\n",
    "\n",
    "\n",
    "plt.figure(figsize=(9,6))\n",
    "plt.scatter(xpca_rd[:,0],xpca_rd[:,1],c=kmeans_rd.labels_.astype(float),cmap='YlOrRd')\n",
    "plt.scatter(centers_rd[:,0], centers_rd[:,1], marker=\"x\", cmap='Set1',s=150)\n",
    "plt.xlabel('PC 1')\n",
    "plt.ylabel('PC 2')\n",
    "plt.title('Clustering K-means+RD')\n",
    "plt.show()"
   ]
  },
  {
   "cell_type": "code",
   "execution_count": 29,
   "metadata": {},
   "outputs": [],
   "source": [
    "#   Se unen las labels obtenidas del modelo de K-means al DataFrame original\n",
    "\n",
    "aux1=pd.DataFrame(km.labels_, columns = [\"Cluster\"])\n",
    "mod2og = mod2og.join([aux1])"
   ]
  },
  {
   "cell_type": "code",
   "execution_count": 30,
   "metadata": {},
   "outputs": [
    {
     "data": {
      "text/html": [
       "<div>\n",
       "<style scoped>\n",
       "    .dataframe tbody tr th:only-of-type {\n",
       "        vertical-align: middle;\n",
       "    }\n",
       "\n",
       "    .dataframe tbody tr th {\n",
       "        vertical-align: top;\n",
       "    }\n",
       "\n",
       "    .dataframe thead th {\n",
       "        text-align: right;\n",
       "    }\n",
       "</style>\n",
       "<table border=\"1\" class=\"dataframe\">\n",
       "  <thead>\n",
       "    <tr style=\"text-align: right;\">\n",
       "      <th></th>\n",
       "      <th>provincia</th>\n",
       "      <th>cultivo</th>\n",
       "      <th>rendimiento</th>\n",
       "      <th>Cluster</th>\n",
       "    </tr>\n",
       "  </thead>\n",
       "  <tbody>\n",
       "    <tr>\n",
       "      <th>0</th>\n",
       "      <td>BUENOS AIRES</td>\n",
       "      <td>Ajo</td>\n",
       "      <td>3978.088748</td>\n",
       "      <td>4</td>\n",
       "    </tr>\n",
       "    <tr>\n",
       "      <th>1</th>\n",
       "      <td>BUENOS AIRES</td>\n",
       "      <td>Alpiste</td>\n",
       "      <td>954.178904</td>\n",
       "      <td>0</td>\n",
       "    </tr>\n",
       "    <tr>\n",
       "      <th>2</th>\n",
       "      <td>BUENOS AIRES</td>\n",
       "      <td>Avena</td>\n",
       "      <td>1504.611014</td>\n",
       "      <td>0</td>\n",
       "    </tr>\n",
       "    <tr>\n",
       "      <th>3</th>\n",
       "      <td>BUENOS AIRES</td>\n",
       "      <td>Cebada cervecera</td>\n",
       "      <td>2414.116224</td>\n",
       "      <td>0</td>\n",
       "    </tr>\n",
       "    <tr>\n",
       "      <th>4</th>\n",
       "      <td>BUENOS AIRES</td>\n",
       "      <td>Cebada forrajera</td>\n",
       "      <td>625.169038</td>\n",
       "      <td>0</td>\n",
       "    </tr>\n",
       "    <tr>\n",
       "      <th>5</th>\n",
       "      <td>BUENOS AIRES</td>\n",
       "      <td>Cebada total</td>\n",
       "      <td>4096.151408</td>\n",
       "      <td>4</td>\n",
       "    </tr>\n",
       "    <tr>\n",
       "      <th>6</th>\n",
       "      <td>BUENOS AIRES</td>\n",
       "      <td>Cebolla total</td>\n",
       "      <td>9996.105611</td>\n",
       "      <td>2</td>\n",
       "    </tr>\n",
       "    <tr>\n",
       "      <th>7</th>\n",
       "      <td>BUENOS AIRES</td>\n",
       "      <td>Centeno</td>\n",
       "      <td>761.004082</td>\n",
       "      <td>0</td>\n",
       "    </tr>\n",
       "    <tr>\n",
       "      <th>8</th>\n",
       "      <td>BUENOS AIRES</td>\n",
       "      <td>Colza</td>\n",
       "      <td>1630.526035</td>\n",
       "      <td>0</td>\n",
       "    </tr>\n",
       "    <tr>\n",
       "      <th>9</th>\n",
       "      <td>BUENOS AIRES</td>\n",
       "      <td>Cártamo</td>\n",
       "      <td>602.409091</td>\n",
       "      <td>0</td>\n",
       "    </tr>\n",
       "  </tbody>\n",
       "</table>\n",
       "</div>"
      ],
      "text/plain": [
       "      provincia           cultivo  rendimiento  Cluster\n",
       "0  BUENOS AIRES               Ajo  3978.088748        4\n",
       "1  BUENOS AIRES           Alpiste   954.178904        0\n",
       "2  BUENOS AIRES             Avena  1504.611014        0\n",
       "3  BUENOS AIRES  Cebada cervecera  2414.116224        0\n",
       "4  BUENOS AIRES  Cebada forrajera   625.169038        0\n",
       "5  BUENOS AIRES      Cebada total  4096.151408        4\n",
       "6  BUENOS AIRES     Cebolla total  9996.105611        2\n",
       "7  BUENOS AIRES           Centeno   761.004082        0\n",
       "8  BUENOS AIRES             Colza  1630.526035        0\n",
       "9  BUENOS AIRES           Cártamo   602.409091        0"
      ]
     },
     "execution_count": 30,
     "metadata": {},
     "output_type": "execute_result"
    }
   ],
   "source": [
    "#   Visualización de la forma del DataFrame con las labels añadidas\n",
    "\n",
    "mod2og.head(10)"
   ]
  },
  {
   "cell_type": "code",
   "execution_count": 31,
   "metadata": {},
   "outputs": [
    {
     "name": "stdout",
     "output_type": "stream",
     "text": [
      "                cultivo   provincia   rendimiento\n",
      "Cluster                                          \n",
      "1        Caña de azúcar    SANTA FE  30606.000000\n",
      "1         Cebolla total    SAN JUAN  27048.153285\n",
      "1        Caña de azúcar     FORMOSA  26249.777027\n",
      "1        Caña de azúcar  CORRIENTES  25057.813253\n",
      "1         Cebolla total     MENDOZA  23689.616246\n",
      "1        Caña de azúcar       CHACO  21860.048780\n",
      "1         Cebolla total   RIO NEGRO  19512.362069\n",
      "1         Cebolla total    LA PAMPA  19333.250000\n",
      "1                Banana  CORRIENTES  19010.262295\n",
      "1                Banana       SALTA  18644.072464\n",
      "1                Banana       JUJUY  18614.392857\n",
      "1                 Limón     TUCUMAN  18498.535316\n",
      "1         Cebolla total     CORDOBA  18421.559783\n",
      "1         Cebolla total    LA RIOJA  17433.927711\n",
      "1         Cebolla total     NEUQUEN  17162.600000\n",
      "1                Pomelo   CATAMARCA  17125.000000\n"
     ]
    }
   ],
   "source": [
    "#   Función que permite ver que conjunto de Cultivo/Provincia quedo en cada categoria de nivel de rendimiento. Según un orden\n",
    "#   de mayor a menos rendimiento, los clusters son: 3,1,2,4,0. El código de la función está en el modulo functions que fue\n",
    "#   importado al inicio.\n",
    "#   Función functions.clusters (df, yieldlvl = \"medio\") donde yieldlvl hace referencia al  nivel de rendimiento que se desea\n",
    "#   consultar. Amite {df = DataFrame mod2og, yieldlvl : [\"alto\",\"medioalto\",\"medio\",\"mediobajo\", \"bajo\"]}\n",
    "\n",
    "fns.clusters(mod2og, \"medioalto\")"
   ]
  }
 ],
 "metadata": {
  "kernelspec": {
   "display_name": "Python 3",
   "language": "python",
   "name": "python3"
  },
  "language_info": {
   "codemirror_mode": {
    "name": "ipython",
    "version": 3
   },
   "file_extension": ".py",
   "mimetype": "text/x-python",
   "name": "python",
   "nbconvert_exporter": "python",
   "pygments_lexer": "ipython3",
   "version": "3.7.3"
  }
 },
 "nbformat": 4,
 "nbformat_minor": 2
}
